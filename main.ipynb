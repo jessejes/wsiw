{
 "cells": [
  {
   "cell_type": "code",
   "execution_count": 2,
   "metadata": {
    "is_executing": true
   },
   "outputs": [
    {
     "name": "stdout",
     "output_type": "stream",
     "text": [
      "\n",
      "System:\n",
      "    python: 3.11.1 (v3.11.1:a7a450f84a, Dec  6 2022, 15:24:06) [Clang 13.0.0 (clang-1300.0.29.30)]\n",
      "executable: /Users/jesse/workspaces/wsiw/venv/bin/python\n",
      "   machine: macOS-13.1-arm64-arm-64bit\n",
      "\n",
      "Python dependencies:\n",
      "      sklearn: 1.2.2\n",
      "          pip: 23.1.2\n",
      "   setuptools: 65.5.1\n",
      "        numpy: 1.24.3\n",
      "        scipy: 1.10.1\n",
      "       Cython: None\n",
      "       pandas: None\n",
      "   matplotlib: None\n",
      "       joblib: 1.2.0\n",
      "threadpoolctl: 3.1.0\n",
      "\n",
      "Built with OpenMP: True\n",
      "\n",
      "threadpoolctl info:\n",
      "       user_api: openmp\n",
      "   internal_api: openmp\n",
      "         prefix: libomp\n",
      "       filepath: /Users/jesse/workspaces/wsiw/venv/lib/python3.11/site-packages/sklearn/.dylibs/libomp.dylib\n",
      "        version: None\n",
      "    num_threads: 10\n",
      "\n",
      "       user_api: blas\n",
      "   internal_api: openblas\n",
      "         prefix: libopenblas\n",
      "       filepath: /Users/jesse/workspaces/wsiw/venv/lib/python3.11/site-packages/numpy/.dylibs/libopenblas64_.0.dylib\n",
      "        version: 0.3.21\n",
      "threading_layer: pthreads\n",
      "   architecture: armv8\n",
      "    num_threads: 10\n",
      "\n",
      "       user_api: blas\n",
      "   internal_api: openblas\n",
      "         prefix: libopenblas\n",
      "       filepath: /Users/jesse/workspaces/wsiw/venv/lib/python3.11/site-packages/scipy/.dylibs/libopenblas.0.dylib\n",
      "        version: 0.3.18\n",
      "threading_layer: pthreads\n",
      "   architecture: armv8\n",
      "    num_threads: 10\n"
     ]
    }
   ],
   "source": [
    "from sklearn import show_versions\n",
    "\n",
    "show_versions()"
   ]
  },
  {
   "cell_type": "code",
   "execution_count": null,
   "metadata": {},
   "outputs": [],
   "source": []
  }
 ],
 "metadata": {
  "kernelspec": {
   "display_name": "Python 3 (ipykernel)",
   "language": "python",
   "name": "python3"
  },
  "language_info": {
   "codemirror_mode": {
    "name": "ipython",
    "version": 3
   },
   "file_extension": ".py",
   "mimetype": "text/x-python",
   "name": "python",
   "nbconvert_exporter": "python",
   "pygments_lexer": "ipython3",
   "version": "3.11.1"
  }
 },
 "nbformat": 4,
 "nbformat_minor": 1
}
